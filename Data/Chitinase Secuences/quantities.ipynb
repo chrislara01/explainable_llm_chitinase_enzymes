{
 "cells": [
  {
   "cell_type": "code",
   "execution_count": 1,
   "metadata": {},
   "outputs": [],
   "source": [
    "# Loading packages\n",
    "from Bio import SeqIO"
   ]
  },
  {
   "cell_type": "code",
   "execution_count": null,
   "metadata": {},
   "outputs": [],
   "source": [
    "# Read the sequences from the fasta files\n",
    "paths = [\"Endoquitinasa GH19 EC 3.2.1.14\\ENDOQUITINASA GH19 EC 3.2.1.14.fasta\",\n",
    "         \"Endoquitinasas GH18 EC 3.2.1.14\\ENDOQUITINASAS GH18 EC 3.2.1.14.fasta\",\n",
    "         \"Exoquitinasa GH18 EC 3.2.1.14\\Exoquitinasa GH18 EC 3.2.1.14.fasta\",\n",
    "         \"Quitinasa GH18 EC 3.2.1.14\\QUITINASAS GH18 EC 3.2.1.14.fasta\",\n",
    "         \"Quitinasa GH18 EC 3.2.1.132\\Quitinasa GH18 EC 3.2.1.132.fasta\",\n",
    "         \"Quitinasa GH18 EC 3.2.1.200\\QUITINASAS GH18 EC 3.2.1.200.fasta\",\n",
    "         \"Quitinasa GH18 EC 3.2.1.201\\Quitinasa GH18 EC 3.2.1.201.fasta\",\n",
    "         \"Quitinasa GH19 EC 3.2.1.14\\QUITINASA GH19 EC 3.2.1.14.fasta\",\n",
    "         \"Quitinasa GH19 EC 3.2.1.201\\Quitinasa GH19 EC 3.2.1.201.fasta\"\n",
    "         ]\n",
    "fastafiles = [list(SeqIO.parse(path, \"fasta\")) for path in paths]"
   ]
  },
  {
   "cell_type": "code",
   "execution_count": 3,
   "metadata": {},
   "outputs": [
    {
     "data": {
      "text/plain": [
       "[13, 32, 1, 327, 1, 4, 1, 79, 1]"
      ]
     },
     "execution_count": 3,
     "metadata": {},
     "output_type": "execute_result"
    }
   ],
   "source": [
    "# Preparing protein sequences and indexes as a list\n",
    "sequences = [len([str(sequence.seq) for sequence in fastafile]) for fastafile in fastafiles]\n",
    "sequences"
   ]
  }
 ],
 "metadata": {
  "kernelspec": {
   "display_name": "torch",
   "language": "python",
   "name": "python3"
  },
  "language_info": {
   "codemirror_mode": {
    "name": "ipython",
    "version": 3
   },
   "file_extension": ".py",
   "mimetype": "text/x-python",
   "name": "python",
   "nbconvert_exporter": "python",
   "pygments_lexer": "ipython3",
   "version": "3.12.4"
  }
 },
 "nbformat": 4,
 "nbformat_minor": 2
}
