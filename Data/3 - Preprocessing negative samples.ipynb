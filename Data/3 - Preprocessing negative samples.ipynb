{
 "cells": [
  {
   "cell_type": "markdown",
   "metadata": {},
   "source": [
    "# **Importing necesary libraries**"
   ]
  },
  {
   "cell_type": "code",
   "execution_count": 1,
   "metadata": {},
   "outputs": [],
   "source": [
    "import pandas as pd\n",
    "from Bio import SeqIO \n",
    "import random\n",
    "import numpy as np\n",
    "\n",
    "random.seed(42)\n",
    "random_seed = 42"
   ]
  },
  {
   "cell_type": "markdown",
   "metadata": {},
   "source": [
    "# **Importing fasta files**"
   ]
  },
  {
   "cell_type": "code",
   "execution_count": 2,
   "metadata": {},
   "outputs": [],
   "source": [
    "# Read the sequences from the fasta files\n",
    "carbo_fasta = list(SeqIO.parse(\"Non Chitinase Sequences/CD-HIT/Carbohydrate Esterase/carbohydrate_cdhit.fasta\", \"fasta\"))\n",
    "gh10_fasta = list(SeqIO.parse(\"Non Chitinase Sequences/CD-HIT/GH10/gh10_cdhit.fasta\", \"fasta\"))\n",
    "gh20_fasta = list(SeqIO.parse(\"Non Chitinase Sequences/CD-HIT/GH20/gh20_cdhit.fasta\", \"fasta\"))\n",
    "glycosyl_fasta = list(SeqIO.parse(\"Non Chitinase Sequences/CD-HIT/Glycosyltransferases/glycosyl_cdhit.fasta\", \"fasta\"))\n",
    "peptidase_fasta = list(SeqIO.parse(\"Non Chitinase Sequences/CD-HIT/Peptidase Families/peptidase_cdhit.fasta\", \"fasta\"))\n",
    "tubulin_fasta = list(SeqIO.parse(\"Non Chitinase Sequences/CD-HIT/Tubulin Superfamily/tubulin_cdhit.fasta\", \"fasta\"))"
   ]
  },
  {
   "cell_type": "code",
   "execution_count": 3,
   "metadata": {},
   "outputs": [],
   "source": [
    "# Preparing protein sequences as a list\n",
    "carbo = [str(sequence.seq) for sequence in carbo_fasta]\n",
    "gh10 = [str(sequence.seq) for sequence in gh10_fasta]\n",
    "gh20 = [str(sequence.seq) for sequence in gh20_fasta]\n",
    "glycosyl = [str(sequence.seq) for sequence in glycosyl_fasta]\n",
    "peptidase = [str(sequence.seq) for sequence in peptidase_fasta]\n",
    "tubulin = [str(sequence.seq) for sequence in tubulin_fasta]"
   ]
  },
  {
   "cell_type": "markdown",
   "metadata": {},
   "source": [
    "# **Ramdomly sampling sequences from each family**"
   ]
  },
  {
   "cell_type": "code",
   "execution_count": 4,
   "metadata": {},
   "outputs": [
    {
     "name": "stdout",
     "output_type": "stream",
     "text": [
      "Quantities from each family\n",
      "Carbohydrate Esterase:  9684\n",
      "GH10:  3896\n",
      "GH20:  77\n",
      "Glycosyltransferases:  7771\n",
      "Peptidase Families:  215\n",
      "Tubulin Superfamily:  299\n"
     ]
    }
   ],
   "source": [
    "print(\"Quantities from each family\")\n",
    "print(\"Carbohydrate Esterase: \", len(carbo))\n",
    "print(\"GH10: \", len(gh10))\n",
    "print(\"GH20: \", len(gh20))\n",
    "print(\"Glycosyltransferases: \", len(glycosyl))\n",
    "print(\"Peptidase Families: \", len(peptidase))\n",
    "print(\"Tubulin Superfamily: \", len(tubulin))"
   ]
  },
  {
   "cell_type": "code",
   "execution_count": 8,
   "metadata": {},
   "outputs": [
    {
     "data": {
      "text/plain": [
       "(76, 3)"
      ]
     },
     "execution_count": 8,
     "metadata": {},
     "output_type": "execute_result"
    }
   ],
   "source": [
    "sample_size = int(459 / 6)\n",
    "sample_size, 459 - sample_size*6"
   ]
  },
  {
   "cell_type": "code",
   "execution_count": 9,
   "metadata": {},
   "outputs": [],
   "source": [
    "carbo_sampled = random.sample(carbo, sample_size+1)\n",
    "gh10_sampled = random.sample(gh10, sample_size+1)\n",
    "gh20_sampled = random.sample(gh20, sample_size+1)\n",
    "glycosyl_sampled = random.sample(glycosyl, sample_size)\n",
    "peptidase_sampled = random.sample(peptidase, sample_size)\n",
    "tubulin_sampled = random.sample(tubulin, sample_size)"
   ]
  },
  {
   "cell_type": "code",
   "execution_count": 10,
   "metadata": {},
   "outputs": [
    {
     "name": "stdout",
     "output_type": "stream",
     "text": [
      "Quantities from each family after sampling\n",
      "Carbohydrate Esterase:  77\n",
      "GH10:  77\n",
      "GH20:  77\n",
      "Glycosyltransferases:  76\n",
      "Peptidase Families:  76\n",
      "Tubulin Superfamily:  76\n",
      "TOTAL:  459\n"
     ]
    }
   ],
   "source": [
    "print(\"Quantities from each family after sampling\")\n",
    "print(\"Carbohydrate Esterase: \", len(carbo_sampled))\n",
    "print(\"GH10: \", len(gh10_sampled))\n",
    "print(\"GH20: \", len(gh20_sampled))\n",
    "print(\"Glycosyltransferases: \", len(glycosyl_sampled))\n",
    "print(\"Peptidase Families: \", len(peptidase_sampled))\n",
    "print(\"Tubulin Superfamily: \", len(tubulin_sampled))\n",
    "print(\"TOTAL: \", len(carbo_sampled)+len(gh10_sampled)+len(gh20_sampled)+len(glycosyl_sampled)+len(peptidase_sampled)+len(tubulin_sampled))"
   ]
  },
  {
   "cell_type": "markdown",
   "metadata": {},
   "source": [
    "## **Creating Dataframes**"
   ]
  },
  {
   "cell_type": "code",
   "execution_count": 11,
   "metadata": {},
   "outputs": [],
   "source": [
    "carbo_dataframe = pd.DataFrame({\"sequence\": carbo_sampled})\n",
    "gh10_dataframe = pd.DataFrame({\"sequence\": gh10_sampled})\n",
    "gh20_dataframe = pd.DataFrame({\"sequence\": gh20_sampled})\n",
    "glycosyl_dataframe = pd.DataFrame({\"sequence\": glycosyl_sampled})\n",
    "peptidase_dataframe = pd.DataFrame({\"sequence\": peptidase_sampled})\n",
    "tubulin_dataframe = pd.DataFrame({\"sequence\": tubulin_sampled})"
   ]
  },
  {
   "cell_type": "code",
   "execution_count": 12,
   "metadata": {},
   "outputs": [],
   "source": [
    "carbo_dataframe[\"label\"] = np.zeros(len(carbo_dataframe), dtype=np.int32)\n",
    "gh10_dataframe[\"label\"] = np.zeros(len(gh10_dataframe), dtype=np.int32)\n",
    "gh20_dataframe[\"label\"] = np.zeros(len(gh20_dataframe), dtype=np.int32)\n",
    "glycosyl_dataframe[\"label\"] = np.zeros(len(glycosyl_dataframe), dtype=np.int32)\n",
    "peptidase_dataframe[\"label\"] = np.zeros(len(peptidase_dataframe), dtype=np.int32)\n",
    "tubulin_dataframe[\"label\"] = np.zeros(len(tubulin_dataframe), dtype=np.int32)"
   ]
  },
  {
   "cell_type": "markdown",
   "metadata": {},
   "source": [
    "# **Spliting Dataset into Train, Test, Validation datasets**"
   ]
  },
  {
   "cell_type": "code",
   "execution_count": 13,
   "metadata": {},
   "outputs": [],
   "source": [
    "def split_dataframe(df, train_ratio=0.7, test_ratio=0.2, val_ratio=0.1, random_state=42):\n",
    "    # Shuffle the DataFrame\n",
    "    df_shuffled = df.sample(frac=1, random_state=random_state).reset_index(drop=True)\n",
    "    \n",
    "    # Calculate the indices for splits\n",
    "    train_end = int(len(df_shuffled) * train_ratio)\n",
    "    test_end = train_end + int(len(df_shuffled) * test_ratio)\n",
    "    val_end = len(df_shuffled) \n",
    "\n",
    "\n",
    "    # Split the DataFrame\n",
    "    train_df = df_shuffled[:train_end]\n",
    "    test_df = df_shuffled[train_end:test_end]\n",
    "    val_df = df_shuffled[test_end:val_end]\n",
    "    \n",
    "    return train_df, test_df, val_df"
   ]
  },
  {
   "cell_type": "code",
   "execution_count": 14,
   "metadata": {},
   "outputs": [],
   "source": [
    "train_carbo, test_carbo, valid_carbo = split_dataframe(carbo_dataframe)\n",
    "train_gh10, test_gh10, valid_gh10 = split_dataframe(gh10_dataframe)\n",
    "train_gh20, test_gh20, valid_gh20 = split_dataframe(gh20_dataframe)\n",
    "train_glycosyl, test_glycosyl, valid_glycosyl = split_dataframe(glycosyl_dataframe)\n",
    "train_peptidase, test_peptidase, valid_peptidase = split_dataframe(peptidase_dataframe)\n",
    "train_tubulin, test_tubulin, valid_tubulin = split_dataframe(tubulin_dataframe)"
   ]
  },
  {
   "cell_type": "code",
   "execution_count": 15,
   "metadata": {},
   "outputs": [],
   "source": [
    "datasets = [train_carbo, test_carbo, valid_carbo,train_gh10, test_gh10, valid_gh10,train_gh20, test_gh20, valid_gh20,train_glycosyl, test_glycosyl, valid_glycosyl,train_peptidase, test_peptidase, valid_peptidase,train_tubulin, test_tubulin, valid_tubulin]\n",
    "train_sets = datasets[0::3]\n",
    "test_sets = datasets[1::3]\n",
    "valid_sets = datasets[2::3]"
   ]
  },
  {
   "cell_type": "code",
   "execution_count": 16,
   "metadata": {},
   "outputs": [
    {
     "data": {
      "text/html": [
       "<div>\n",
       "<style scoped>\n",
       "    .dataframe tbody tr th:only-of-type {\n",
       "        vertical-align: middle;\n",
       "    }\n",
       "\n",
       "    .dataframe tbody tr th {\n",
       "        vertical-align: top;\n",
       "    }\n",
       "\n",
       "    .dataframe thead th {\n",
       "        text-align: right;\n",
       "    }\n",
       "</style>\n",
       "<table border=\"1\" class=\"dataframe\">\n",
       "  <thead>\n",
       "    <tr style=\"text-align: right;\">\n",
       "      <th></th>\n",
       "      <th>sequence</th>\n",
       "      <th>label</th>\n",
       "    </tr>\n",
       "  </thead>\n",
       "  <tbody>\n",
       "    <tr>\n",
       "      <th>0</th>\n",
       "      <td>MKGLFALLLLPLALTAPTPEAGELVERQAAQSIDALMKAKGKLYFG...</td>\n",
       "      <td>0</td>\n",
       "    </tr>\n",
       "    <tr>\n",
       "      <th>1</th>\n",
       "      <td>MAESEFKLGQRVHSAGDPRRIGTVAYVGPVQGYSGVWIGVDWDNGD...</td>\n",
       "      <td>0</td>\n",
       "    </tr>\n",
       "    <tr>\n",
       "      <th>2</th>\n",
       "      <td>MAATSPANIFILAGQSNMAGRGGVSKDPTTDKNVWDGYIPPESQPN...</td>\n",
       "      <td>0</td>\n",
       "    </tr>\n",
       "    <tr>\n",
       "      <th>3</th>\n",
       "      <td>MKRTPLALAGLITAASAIATPGPNDFDWSTITPSRKLEYHPCYTEH...</td>\n",
       "      <td>0</td>\n",
       "    </tr>\n",
       "    <tr>\n",
       "      <th>4</th>\n",
       "      <td>MKSFLLIGQSNMAGRGFVHEVPSIYNERIEMLRNGRWQMMTEPINY...</td>\n",
       "      <td>0</td>\n",
       "    </tr>\n",
       "    <tr>\n",
       "      <th>5</th>\n",
       "      <td>MGQMRFALHRRDRIPPGGLPRIYVAGNEDIPWQTRTRWEKETLVVE...</td>\n",
       "      <td>0</td>\n",
       "    </tr>\n",
       "    <tr>\n",
       "      <th>6</th>\n",
       "      <td>MIPKNIFLVLNKLHVSSLIYQLSNLFSLKSRKDELPLRPKQVLADL...</td>\n",
       "      <td>0</td>\n",
       "    </tr>\n",
       "    <tr>\n",
       "      <th>7</th>\n",
       "      <td>MGSTERAKKRVQLWKKAIVHFSLCFLMGFFTGFAPTGNKSSIFSNI...</td>\n",
       "      <td>0</td>\n",
       "    </tr>\n",
       "    <tr>\n",
       "      <th>8</th>\n",
       "      <td>MLRFEVYRDGAPAEHVDLSGAYVFGQDAIPVRADLAAAKGQIRCLK...</td>\n",
       "      <td>0</td>\n",
       "    </tr>\n",
       "    <tr>\n",
       "      <th>9</th>\n",
       "      <td>MVDNDGLHSAIEKSGQVALTKGMHPFALDFVEGGGGFTLKLQYSFN...</td>\n",
       "      <td>0</td>\n",
       "    </tr>\n",
       "  </tbody>\n",
       "</table>\n",
       "</div>"
      ],
      "text/plain": [
       "                                            sequence  label\n",
       "0  MKGLFALLLLPLALTAPTPEAGELVERQAAQSIDALMKAKGKLYFG...      0\n",
       "1  MAESEFKLGQRVHSAGDPRRIGTVAYVGPVQGYSGVWIGVDWDNGD...      0\n",
       "2  MAATSPANIFILAGQSNMAGRGGVSKDPTTDKNVWDGYIPPESQPN...      0\n",
       "3  MKRTPLALAGLITAASAIATPGPNDFDWSTITPSRKLEYHPCYTEH...      0\n",
       "4  MKSFLLIGQSNMAGRGFVHEVPSIYNERIEMLRNGRWQMMTEPINY...      0\n",
       "5  MGQMRFALHRRDRIPPGGLPRIYVAGNEDIPWQTRTRWEKETLVVE...      0\n",
       "6  MIPKNIFLVLNKLHVSSLIYQLSNLFSLKSRKDELPLRPKQVLADL...      0\n",
       "7  MGSTERAKKRVQLWKKAIVHFSLCFLMGFFTGFAPTGNKSSIFSNI...      0\n",
       "8  MLRFEVYRDGAPAEHVDLSGAYVFGQDAIPVRADLAAAKGQIRCLK...      0\n",
       "9  MVDNDGLHSAIEKSGQVALTKGMHPFALDFVEGGGGFTLKLQYSFN...      0"
      ]
     },
     "execution_count": 16,
     "metadata": {},
     "output_type": "execute_result"
    }
   ],
   "source": [
    "train = pd.concat(train_sets, ignore_index=True)\n",
    "train_shuffled = train.sample(frac=1, random_state=random_seed).reset_index(drop=True)\n",
    "train_shuffled.head(10)"
   ]
  },
  {
   "cell_type": "code",
   "execution_count": 17,
   "metadata": {},
   "outputs": [
    {
     "data": {
      "text/html": [
       "<div>\n",
       "<style scoped>\n",
       "    .dataframe tbody tr th:only-of-type {\n",
       "        vertical-align: middle;\n",
       "    }\n",
       "\n",
       "    .dataframe tbody tr th {\n",
       "        vertical-align: top;\n",
       "    }\n",
       "\n",
       "    .dataframe thead th {\n",
       "        text-align: right;\n",
       "    }\n",
       "</style>\n",
       "<table border=\"1\" class=\"dataframe\">\n",
       "  <thead>\n",
       "    <tr style=\"text-align: right;\">\n",
       "      <th></th>\n",
       "      <th>sequence</th>\n",
       "      <th>label</th>\n",
       "    </tr>\n",
       "  </thead>\n",
       "  <tbody>\n",
       "    <tr>\n",
       "      <th>0</th>\n",
       "      <td>GWDEXLDGDKVPADATVMSWRGTDGAVKAARAGHDVVLSPAPQLYL...</td>\n",
       "      <td>0</td>\n",
       "    </tr>\n",
       "    <tr>\n",
       "      <th>1</th>\n",
       "      <td>MLSFPDWNGPAQVEILETINGALVFGQTVRVAIFAGPGAPAPAKLG...</td>\n",
       "      <td>0</td>\n",
       "    </tr>\n",
       "    <tr>\n",
       "      <th>2</th>\n",
       "      <td>MSHQYLLEFCWGLAKSNCPFLWIIRPDLVDGKSVVLPPEFLEEISS...</td>\n",
       "      <td>0</td>\n",
       "    </tr>\n",
       "    <tr>\n",
       "      <th>3</th>\n",
       "      <td>MEAHLGMILRHSLLAIARQNLRLQCMRCMTNIWSWREICKEIVKNP...</td>\n",
       "      <td>0</td>\n",
       "    </tr>\n",
       "    <tr>\n",
       "      <th>4</th>\n",
       "      <td>MTRLVKTTFAVSALLSATAEGTGPSTVTETKEIHKTHWRTRWHTHT...</td>\n",
       "      <td>0</td>\n",
       "    </tr>\n",
       "    <tr>\n",
       "      <th>5</th>\n",
       "      <td>MALVSEAITFSRTMKTRSLNGSSPSLLMSLREAAEKRINSVVSRSE...</td>\n",
       "      <td>0</td>\n",
       "    </tr>\n",
       "    <tr>\n",
       "      <th>6</th>\n",
       "      <td>KPFSLDPGNPESLELVTGLLDELLPHFSSSIVNVGLDETVDLGEGR...</td>\n",
       "      <td>0</td>\n",
       "    </tr>\n",
       "    <tr>\n",
       "      <th>7</th>\n",
       "      <td>MRIRNAFISTLILLVSFLHSKYNSPLIINVCFSKSKKLRKTNNFVL...</td>\n",
       "      <td>0</td>\n",
       "    </tr>\n",
       "    <tr>\n",
       "      <th>8</th>\n",
       "      <td>MLFKTIVGAVATAATCLGASLDRVFFFGQNPTNIRMYIYVPDNLAP...</td>\n",
       "      <td>0</td>\n",
       "    </tr>\n",
       "    <tr>\n",
       "      <th>9</th>\n",
       "      <td>MVRFTGLSPKQTQAIEVLKGHISLPDVEVAVTQSDQESISIQGEEG...</td>\n",
       "      <td>0</td>\n",
       "    </tr>\n",
       "  </tbody>\n",
       "</table>\n",
       "</div>"
      ],
      "text/plain": [
       "                                            sequence  label\n",
       "0  GWDEXLDGDKVPADATVMSWRGTDGAVKAARAGHDVVLSPAPQLYL...      0\n",
       "1  MLSFPDWNGPAQVEILETINGALVFGQTVRVAIFAGPGAPAPAKLG...      0\n",
       "2  MSHQYLLEFCWGLAKSNCPFLWIIRPDLVDGKSVVLPPEFLEEISS...      0\n",
       "3  MEAHLGMILRHSLLAIARQNLRLQCMRCMTNIWSWREICKEIVKNP...      0\n",
       "4  MTRLVKTTFAVSALLSATAEGTGPSTVTETKEIHKTHWRTRWHTHT...      0\n",
       "5  MALVSEAITFSRTMKTRSLNGSSPSLLMSLREAAEKRINSVVSRSE...      0\n",
       "6  KPFSLDPGNPESLELVTGLLDELLPHFSSSIVNVGLDETVDLGEGR...      0\n",
       "7  MRIRNAFISTLILLVSFLHSKYNSPLIINVCFSKSKKLRKTNNFVL...      0\n",
       "8  MLFKTIVGAVATAATCLGASLDRVFFFGQNPTNIRMYIYVPDNLAP...      0\n",
       "9  MVRFTGLSPKQTQAIEVLKGHISLPDVEVAVTQSDQESISIQGEEG...      0"
      ]
     },
     "execution_count": 17,
     "metadata": {},
     "output_type": "execute_result"
    }
   ],
   "source": [
    "test = pd.concat(test_sets, ignore_index=True)\n",
    "test_shuffled = test.sample(frac=1, random_state=random_seed).reset_index(drop=True)\n",
    "test_shuffled.head(10)"
   ]
  },
  {
   "cell_type": "code",
   "execution_count": 18,
   "metadata": {},
   "outputs": [
    {
     "data": {
      "text/html": [
       "<div>\n",
       "<style scoped>\n",
       "    .dataframe tbody tr th:only-of-type {\n",
       "        vertical-align: middle;\n",
       "    }\n",
       "\n",
       "    .dataframe tbody tr th {\n",
       "        vertical-align: top;\n",
       "    }\n",
       "\n",
       "    .dataframe thead th {\n",
       "        text-align: right;\n",
       "    }\n",
       "</style>\n",
       "<table border=\"1\" class=\"dataframe\">\n",
       "  <thead>\n",
       "    <tr style=\"text-align: right;\">\n",
       "      <th></th>\n",
       "      <th>sequence</th>\n",
       "      <th>label</th>\n",
       "    </tr>\n",
       "  </thead>\n",
       "  <tbody>\n",
       "    <tr>\n",
       "      <th>0</th>\n",
       "      <td>MKKKRLARGFSKIIDYKEELIRDTSGGINERVEIQDKEEDEFLGRP...</td>\n",
       "      <td>0</td>\n",
       "    </tr>\n",
       "    <tr>\n",
       "      <th>1</th>\n",
       "      <td>MLWAVVVVGVGAYLTSLAVPLWFQAQGERLLIVTSGSMAPRFVAGD...</td>\n",
       "      <td>0</td>\n",
       "    </tr>\n",
       "    <tr>\n",
       "      <th>2</th>\n",
       "      <td>EVLLHGIQGITDIVVEPGLINVDFADVKMIIENAGTAIMGMGRASG...</td>\n",
       "      <td>0</td>\n",
       "    </tr>\n",
       "    <tr>\n",
       "      <th>3</th>\n",
       "      <td>MQHNTLHYIVSNLLLSGTRAGVEFLVDQASMVEVNVNADNWRQTTD...</td>\n",
       "      <td>0</td>\n",
       "    </tr>\n",
       "    <tr>\n",
       "      <th>4</th>\n",
       "      <td>MVRFIGLSPKQTQAIEVLKGHISLPDVEVAVTQSDQASISIEGEEG...</td>\n",
       "      <td>0</td>\n",
       "    </tr>\n",
       "    <tr>\n",
       "      <th>5</th>\n",
       "      <td>MASPKKAKPRARRPLLLRRAMLHSSICFLLGLLAGLAPAFRWTHVA...</td>\n",
       "      <td>0</td>\n",
       "    </tr>\n",
       "    <tr>\n",
       "      <th>6</th>\n",
       "      <td>MNAVIALALGASSLLAVAVADPRVMIESTYTDTKGLNDLAKSMGSK...</td>\n",
       "      <td>0</td>\n",
       "    </tr>\n",
       "    <tr>\n",
       "      <th>7</th>\n",
       "      <td>MVSLERSKKKVQLWKKAIVHFLLCFVMGFFTGFAPTGKGSLFSTRN...</td>\n",
       "      <td>0</td>\n",
       "    </tr>\n",
       "    <tr>\n",
       "      <th>8</th>\n",
       "      <td>SLPLNVACVNFATIWDGVLGPDPGYRAFGCTNTSSCVLGDRASTFG...</td>\n",
       "      <td>0</td>\n",
       "    </tr>\n",
       "    <tr>\n",
       "      <th>9</th>\n",
       "      <td>MASIRRTTPYPSSPLCNDGIPRVESPSHKLLYGSNYSPTTTSSSRL...</td>\n",
       "      <td>0</td>\n",
       "    </tr>\n",
       "  </tbody>\n",
       "</table>\n",
       "</div>"
      ],
      "text/plain": [
       "                                            sequence  label\n",
       "0  MKKKRLARGFSKIIDYKEELIRDTSGGINERVEIQDKEEDEFLGRP...      0\n",
       "1  MLWAVVVVGVGAYLTSLAVPLWFQAQGERLLIVTSGSMAPRFVAGD...      0\n",
       "2  EVLLHGIQGITDIVVEPGLINVDFADVKMIIENAGTAIMGMGRASG...      0\n",
       "3  MQHNTLHYIVSNLLLSGTRAGVEFLVDQASMVEVNVNADNWRQTTD...      0\n",
       "4  MVRFIGLSPKQTQAIEVLKGHISLPDVEVAVTQSDQASISIEGEEG...      0\n",
       "5  MASPKKAKPRARRPLLLRRAMLHSSICFLLGLLAGLAPAFRWTHVA...      0\n",
       "6  MNAVIALALGASSLLAVAVADPRVMIESTYTDTKGLNDLAKSMGSK...      0\n",
       "7  MVSLERSKKKVQLWKKAIVHFLLCFVMGFFTGFAPTGKGSLFSTRN...      0\n",
       "8  SLPLNVACVNFATIWDGVLGPDPGYRAFGCTNTSSCVLGDRASTFG...      0\n",
       "9  MASIRRTTPYPSSPLCNDGIPRVESPSHKLLYGSNYSPTTTSSSRL...      0"
      ]
     },
     "execution_count": 18,
     "metadata": {},
     "output_type": "execute_result"
    }
   ],
   "source": [
    "valid = pd.concat(valid_sets, ignore_index=True)\n",
    "valid_shuffled = valid.sample(frac=1, random_state=random_seed).reset_index(drop=True)\n",
    "valid_shuffled.head(10)"
   ]
  },
  {
   "cell_type": "markdown",
   "metadata": {},
   "source": [
    "# **Exporting Dataframes**"
   ]
  },
  {
   "cell_type": "code",
   "execution_count": 20,
   "metadata": {},
   "outputs": [],
   "source": [
    "train_shuffled.to_csv(\"Negative Samples/No Data Augmentation/my_train_negative.csv\", index=False)\n",
    "test_shuffled.to_csv(\"Negative Samples/No Data Augmentation/my_test_negative.csv\", index=False)\n",
    "valid_shuffled.to_csv(\"Negative Samples/No Data Augmentation/my_valid_negative.csv\", index=False)"
   ]
  }
 ],
 "metadata": {
  "kernelspec": {
   "display_name": "torch",
   "language": "python",
   "name": "python3"
  },
  "language_info": {
   "codemirror_mode": {
    "name": "ipython",
    "version": 3
   },
   "file_extension": ".py",
   "mimetype": "text/x-python",
   "name": "python",
   "nbconvert_exporter": "python",
   "pygments_lexer": "ipython3",
   "version": "3.12.4"
  }
 },
 "nbformat": 4,
 "nbformat_minor": 2
}
