{
 "cells": [
  {
   "cell_type": "markdown",
   "metadata": {},
   "source": [
    "# **Importing necesary libraries**"
   ]
  },
  {
   "cell_type": "code",
   "execution_count": 1,
   "metadata": {},
   "outputs": [],
   "source": [
    "import pandas as pd\n",
    "from Bio import SeqIO \n",
    "import random\n",
    "import numpy as np\n",
    "\n",
    "random.seed(42)\n",
    "random_seed = 42"
   ]
  },
  {
   "cell_type": "markdown",
   "metadata": {},
   "source": [
    "# **Importing fasta files**"
   ]
  },
  {
   "cell_type": "code",
   "execution_count": 2,
   "metadata": {},
   "outputs": [],
   "source": [
    "# Read the sequences from the fasta files\n",
    "carbo_fasta = list(SeqIO.parse(\"Non Chitinase Sequences/CD-HIT/Carbohydrate Esterase/carbohydrate_cdhit.fasta\", \"fasta\"))\n",
    "gh10_fasta = list(SeqIO.parse(\"Non Chitinase Sequences/CD-HIT/GH10/gh10_cdhit.fasta\", \"fasta\"))\n",
    "gh20_fasta = list(SeqIO.parse(\"Non Chitinase Sequences/CD-HIT/GH20/gh20_cdhit.fasta\", \"fasta\"))\n",
    "glycosyl_fasta = list(SeqIO.parse(\"Non Chitinase Sequences/CD-HIT/Glycosyltransferases/glycosyl_cdhit.fasta\", \"fasta\"))\n",
    "peptidase_fasta = list(SeqIO.parse(\"Non Chitinase Sequences/CD-HIT/Peptidase Families/peptidase_cdhit.fasta\", \"fasta\"))\n",
    "tubulin_fasta = list(SeqIO.parse(\"Non Chitinase Sequences/CD-HIT/Tubulin Superfamily/tubulin_cdhit.fasta\", \"fasta\"))"
   ]
  },
  {
   "cell_type": "code",
   "execution_count": 3,
   "metadata": {},
   "outputs": [],
   "source": [
    "# Preparing protein sequences as a list\n",
    "carbo = [str(sequence.seq) for sequence in carbo_fasta]\n",
    "gh10 = [str(sequence.seq) for sequence in gh10_fasta]\n",
    "gh20 = [str(sequence.seq) for sequence in gh20_fasta]\n",
    "glycosyl = [str(sequence.seq) for sequence in glycosyl_fasta]\n",
    "peptidase = [str(sequence.seq) for sequence in peptidase_fasta]\n",
    "tubulin = [str(sequence.seq) for sequence in tubulin_fasta]"
   ]
  },
  {
   "cell_type": "markdown",
   "metadata": {},
   "source": [
    "# **Ramdomly sampling sequences from each family**"
   ]
  },
  {
   "cell_type": "code",
   "execution_count": 4,
   "metadata": {},
   "outputs": [
    {
     "name": "stdout",
     "output_type": "stream",
     "text": [
      "Quantities from each family\n",
      "Carbohydrate Esterase:  9684\n",
      "GH10:  3896\n",
      "GH20:  77\n",
      "Glycosyltransferases:  7771\n",
      "Peptidase Families:  215\n",
      "Tubulin Superfamily:  299\n"
     ]
    }
   ],
   "source": [
    "print(\"Quantities from each family\")\n",
    "print(\"Carbohydrate Esterase: \", len(carbo))\n",
    "print(\"GH10: \", len(gh10))\n",
    "print(\"GH20: \", len(gh20))\n",
    "print(\"Glycosyltransferases: \", len(glycosyl))\n",
    "print(\"Peptidase Families: \", len(peptidase))\n",
    "print(\"Tubulin Superfamily: \", len(tubulin))"
   ]
  },
  {
   "cell_type": "code",
   "execution_count": 9,
   "metadata": {},
   "outputs": [],
   "source": [
    "sample_size = int(918 / 6)"
   ]
  },
  {
   "cell_type": "code",
   "execution_count": 10,
   "metadata": {},
   "outputs": [],
   "source": [
    "carbo_sampled = random.sample(carbo, sample_size+16)\n",
    "gh10_sampled = random.sample(gh10, sample_size+15)\n",
    "gh20_sampled = random.sample(gh20, 77)\n",
    "glycosyl_sampled = random.sample(glycosyl, sample_size+15)\n",
    "peptidase_sampled = random.sample(peptidase, sample_size+15)\n",
    "tubulin_sampled = random.sample(tubulin, sample_size+15)"
   ]
  },
  {
   "cell_type": "code",
   "execution_count": 24,
   "metadata": {},
   "outputs": [
    {
     "name": "stdout",
     "output_type": "stream",
     "text": [
      "Quantities from each family after sampling\n",
      "Carbohydrate Esterase:  169\n",
      "GH10:  168\n",
      "GH20:  77\n",
      "Glycosyltransferases:  168\n",
      "Peptidase Families:  168\n",
      "Tubulin Superfamily:  168\n",
      "TOTAL:  918\n"
     ]
    }
   ],
   "source": [
    "print(\"Quantities from each family after sampling\")\n",
    "print(\"Carbohydrate Esterase: \", len(carbo_sampled))\n",
    "print(\"GH10: \", len(gh10_sampled))\n",
    "print(\"GH20: \", len(gh20_sampled))\n",
    "print(\"Glycosyltransferases: \", len(glycosyl_sampled))\n",
    "print(\"Peptidase Families: \", len(peptidase_sampled))\n",
    "print(\"Tubulin Superfamily: \", len(tubulin_sampled))\n",
    "print(\"TOTAL: \", len(carbo_sampled)+len(gh10_sampled)+len(gh20_sampled)+len(glycosyl_sampled)+len(peptidase_sampled)+len(tubulin_sampled))"
   ]
  },
  {
   "cell_type": "markdown",
   "metadata": {},
   "source": [
    "## **Creating Dataframes**"
   ]
  },
  {
   "cell_type": "code",
   "execution_count": 13,
   "metadata": {},
   "outputs": [],
   "source": [
    "carbo_dataframe = pd.DataFrame({\"sequence\": carbo_sampled})\n",
    "gh10_dataframe = pd.DataFrame({\"sequence\": gh10_sampled})\n",
    "gh20_dataframe = pd.DataFrame({\"sequence\": gh20_sampled})\n",
    "glycosyl_dataframe = pd.DataFrame({\"sequence\": glycosyl_sampled})\n",
    "peptidase_dataframe = pd.DataFrame({\"sequence\": peptidase_sampled})\n",
    "tubulin_dataframe = pd.DataFrame({\"sequence\": tubulin_sampled})"
   ]
  },
  {
   "cell_type": "code",
   "execution_count": 14,
   "metadata": {},
   "outputs": [],
   "source": [
    "carbo_dataframe[\"label\"] = np.zeros(len(carbo_dataframe), dtype=np.int32)\n",
    "gh10_dataframe[\"label\"] = np.zeros(len(gh10_dataframe), dtype=np.int32)\n",
    "gh20_dataframe[\"label\"] = np.zeros(len(gh20_dataframe), dtype=np.int32)\n",
    "glycosyl_dataframe[\"label\"] = np.zeros(len(glycosyl_dataframe), dtype=np.int32)\n",
    "peptidase_dataframe[\"label\"] = np.zeros(len(peptidase_dataframe), dtype=np.int32)\n",
    "tubulin_dataframe[\"label\"] = np.zeros(len(tubulin_dataframe), dtype=np.int32)"
   ]
  },
  {
   "cell_type": "markdown",
   "metadata": {},
   "source": [
    "# **Spliting Dataset into Train, Test, Validation datasets**"
   ]
  },
  {
   "cell_type": "code",
   "execution_count": 15,
   "metadata": {},
   "outputs": [],
   "source": [
    "def split_dataframe(df, train_ratio=0.7, test_ratio=0.2, val_ratio=0.1, random_state=42):\n",
    "    # Shuffle the DataFrame\n",
    "    df_shuffled = df.sample(frac=1, random_state=random_state).reset_index(drop=True)\n",
    "    \n",
    "    # Calculate the indices for splits\n",
    "    train_end = int(len(df_shuffled) * train_ratio)\n",
    "    test_end = train_end + int(len(df_shuffled) * test_ratio)\n",
    "    val_end = len(df_shuffled) \n",
    "\n",
    "\n",
    "    # Split the DataFrame\n",
    "    train_df = df_shuffled[:train_end]\n",
    "    test_df = df_shuffled[train_end:test_end]\n",
    "    val_df = df_shuffled[test_end:val_end]\n",
    "    \n",
    "    return train_df, test_df, val_df"
   ]
  },
  {
   "cell_type": "code",
   "execution_count": 16,
   "metadata": {},
   "outputs": [],
   "source": [
    "train_carbo, test_carbo, valid_carbo = split_dataframe(carbo_dataframe)\n",
    "train_gh10, test_gh10, valid_gh10 = split_dataframe(gh10_dataframe)\n",
    "train_gh20, test_gh20, valid_gh20 = split_dataframe(gh20_dataframe)\n",
    "train_glycosyl, test_glycosyl, valid_glycosyl = split_dataframe(glycosyl_dataframe)\n",
    "train_peptidase, test_peptidase, valid_peptidase = split_dataframe(peptidase_dataframe)\n",
    "train_tubulin, test_tubulin, valid_tubulin = split_dataframe(tubulin_dataframe)"
   ]
  },
  {
   "cell_type": "code",
   "execution_count": 17,
   "metadata": {},
   "outputs": [],
   "source": [
    "datasets = [train_carbo, test_carbo, valid_carbo,train_gh10, test_gh10, valid_gh10,train_gh20, test_gh20, valid_gh20,train_glycosyl, test_glycosyl, valid_glycosyl,train_peptidase, test_peptidase, valid_peptidase,train_tubulin, test_tubulin, valid_tubulin]\n",
    "train_sets = datasets[0::3]\n",
    "test_sets = datasets[1::3]\n",
    "valid_sets = datasets[2::3]"
   ]
  },
  {
   "cell_type": "code",
   "execution_count": 20,
   "metadata": {},
   "outputs": [
    {
     "data": {
      "text/html": [
       "<div>\n",
       "<style scoped>\n",
       "    .dataframe tbody tr th:only-of-type {\n",
       "        vertical-align: middle;\n",
       "    }\n",
       "\n",
       "    .dataframe tbody tr th {\n",
       "        vertical-align: top;\n",
       "    }\n",
       "\n",
       "    .dataframe thead th {\n",
       "        text-align: right;\n",
       "    }\n",
       "</style>\n",
       "<table border=\"1\" class=\"dataframe\">\n",
       "  <thead>\n",
       "    <tr style=\"text-align: right;\">\n",
       "      <th></th>\n",
       "      <th>sequence</th>\n",
       "      <th>label</th>\n",
       "    </tr>\n",
       "  </thead>\n",
       "  <tbody>\n",
       "    <tr>\n",
       "      <th>0</th>\n",
       "      <td>MLAAALLAVYLAVGALASPLQMRQGEARVITSCVEPNTAALTFDDG...</td>\n",
       "      <td>0</td>\n",
       "    </tr>\n",
       "    <tr>\n",
       "      <th>1</th>\n",
       "      <td>MKLITFAVPCYNSQDYMRRCIDTLLTGGEKVEIIIVNDGSKDRTGE...</td>\n",
       "      <td>0</td>\n",
       "    </tr>\n",
       "    <tr>\n",
       "      <th>2</th>\n",
       "      <td>MFSESDEAQEILGNNCLEDVTWLCSLSESELDMLISLKMLVVQRAK...</td>\n",
       "      <td>0</td>\n",
       "    </tr>\n",
       "    <tr>\n",
       "      <th>3</th>\n",
       "      <td>MVDFVTKNQILCRGHNVLWQDPNFTPSWVRNLTTSPDLLRQAAESR...</td>\n",
       "      <td>0</td>\n",
       "    </tr>\n",
       "    <tr>\n",
       "      <th>4</th>\n",
       "      <td>DAEMGRRIALEEKEKIKQILRGANLTCLVFGLGKGTGTGVSPVIGQ...</td>\n",
       "      <td>0</td>\n",
       "    </tr>\n",
       "    <tr>\n",
       "      <th>5</th>\n",
       "      <td>MAISLNYFGDIKSKEANATVQWSKSNNKVALVEWCSTGFKISLNEV...</td>\n",
       "      <td>0</td>\n",
       "    </tr>\n",
       "    <tr>\n",
       "      <th>6</th>\n",
       "      <td>MSIMSFILPLALLISGAVSSILPRQGASCSTLPAGYSPQQYAKLPD...</td>\n",
       "      <td>0</td>\n",
       "    </tr>\n",
       "    <tr>\n",
       "      <th>7</th>\n",
       "      <td>MCLFFLNQRIPNNIKSSIISVSPEDVSMSGSFVANTTAIKQVFQRI...</td>\n",
       "      <td>0</td>\n",
       "    </tr>\n",
       "    <tr>\n",
       "      <th>8</th>\n",
       "      <td>MKIITRSRHITAYNGHFSMRKSTPDKLMYMKTIQANCFCYLSGFIL...</td>\n",
       "      <td>0</td>\n",
       "    </tr>\n",
       "    <tr>\n",
       "      <th>9</th>\n",
       "      <td>MPIPVSAQFSGGFIPFSGKVAVSWENAPTLVLKKAVARFISRANAL...</td>\n",
       "      <td>0</td>\n",
       "    </tr>\n",
       "  </tbody>\n",
       "</table>\n",
       "</div>"
      ],
      "text/plain": [
       "                                            sequence  label\n",
       "0  MLAAALLAVYLAVGALASPLQMRQGEARVITSCVEPNTAALTFDDG...      0\n",
       "1  MKLITFAVPCYNSQDYMRRCIDTLLTGGEKVEIIIVNDGSKDRTGE...      0\n",
       "2  MFSESDEAQEILGNNCLEDVTWLCSLSESELDMLISLKMLVVQRAK...      0\n",
       "3  MVDFVTKNQILCRGHNVLWQDPNFTPSWVRNLTTSPDLLRQAAESR...      0\n",
       "4  DAEMGRRIALEEKEKIKQILRGANLTCLVFGLGKGTGTGVSPVIGQ...      0\n",
       "5  MAISLNYFGDIKSKEANATVQWSKSNNKVALVEWCSTGFKISLNEV...      0\n",
       "6  MSIMSFILPLALLISGAVSSILPRQGASCSTLPAGYSPQQYAKLPD...      0\n",
       "7  MCLFFLNQRIPNNIKSSIISVSPEDVSMSGSFVANTTAIKQVFQRI...      0\n",
       "8  MKIITRSRHITAYNGHFSMRKSTPDKLMYMKTIQANCFCYLSGFIL...      0\n",
       "9  MPIPVSAQFSGGFIPFSGKVAVSWENAPTLVLKKAVARFISRANAL...      0"
      ]
     },
     "execution_count": 20,
     "metadata": {},
     "output_type": "execute_result"
    }
   ],
   "source": [
    "train = pd.concat(train_sets, ignore_index=True)\n",
    "train_shuffled = train.sample(frac=1, random_state=random_seed).reset_index(drop=True)\n",
    "train_shuffled.head(10)"
   ]
  },
  {
   "cell_type": "code",
   "execution_count": 21,
   "metadata": {},
   "outputs": [
    {
     "data": {
      "text/html": [
       "<div>\n",
       "<style scoped>\n",
       "    .dataframe tbody tr th:only-of-type {\n",
       "        vertical-align: middle;\n",
       "    }\n",
       "\n",
       "    .dataframe tbody tr th {\n",
       "        vertical-align: top;\n",
       "    }\n",
       "\n",
       "    .dataframe thead th {\n",
       "        text-align: right;\n",
       "    }\n",
       "</style>\n",
       "<table border=\"1\" class=\"dataframe\">\n",
       "  <thead>\n",
       "    <tr style=\"text-align: right;\">\n",
       "      <th></th>\n",
       "      <th>sequence</th>\n",
       "      <th>label</th>\n",
       "    </tr>\n",
       "  </thead>\n",
       "  <tbody>\n",
       "    <tr>\n",
       "      <th>0</th>\n",
       "      <td>MRFSDITTAALVAPLVAAHGGIPGAPKVFGLPRDLQADFKAPITAR...</td>\n",
       "      <td>0</td>\n",
       "    </tr>\n",
       "    <tr>\n",
       "      <th>1</th>\n",
       "      <td>MTLTCSTSSSFPPSPAGSSLPIDGANRRVLYFSIVPPPSQLAEHRH...</td>\n",
       "      <td>0</td>\n",
       "    </tr>\n",
       "    <tr>\n",
       "      <th>2</th>\n",
       "      <td>MTLIWTAYIHDRYGGCMYMNNAYRIVQFTPTLDIALLVHDKQFDAI...</td>\n",
       "      <td>0</td>\n",
       "    </tr>\n",
       "    <tr>\n",
       "      <th>3</th>\n",
       "      <td>ARRLTLTSSTRARGRLGFRLAFTSLFRIKGEVTGGRLVEQLSNSHV...</td>\n",
       "      <td>0</td>\n",
       "    </tr>\n",
       "    <tr>\n",
       "      <th>4</th>\n",
       "      <td>MCTTTEDATKELFRLAARTPLNIAPEQGSKLQSEIFGSSKWNIKPS...</td>\n",
       "      <td>0</td>\n",
       "    </tr>\n",
       "    <tr>\n",
       "      <th>5</th>\n",
       "      <td>MAHASSISFSTKPAAFYLAGDSTTAAQSDEGGGWGVGFLKTLQDGA...</td>\n",
       "      <td>0</td>\n",
       "    </tr>\n",
       "    <tr>\n",
       "      <th>6</th>\n",
       "      <td>MASNMSIVRRAWPGAVQELKHLIVFGASYCDVGYDSRAPRPSPERP...</td>\n",
       "      <td>0</td>\n",
       "    </tr>\n",
       "    <tr>\n",
       "      <th>7</th>\n",
       "      <td>MSAIYKKLCEFVAAQGRTPQFWGDILEQEPELMRELPPRTVCLNWH...</td>\n",
       "      <td>0</td>\n",
       "    </tr>\n",
       "    <tr>\n",
       "      <th>8</th>\n",
       "      <td>GAVARGGAGGGRAAHGAPAARRRGGVPAPGLPGELHGRRRRHGEGA...</td>\n",
       "      <td>0</td>\n",
       "    </tr>\n",
       "    <tr>\n",
       "      <th>9</th>\n",
       "      <td>MTTHTQSYPGRRRAAATPSYPSTAAVTRAAKAAAKLAGRVLMVGIM...</td>\n",
       "      <td>0</td>\n",
       "    </tr>\n",
       "  </tbody>\n",
       "</table>\n",
       "</div>"
      ],
      "text/plain": [
       "                                            sequence  label\n",
       "0  MRFSDITTAALVAPLVAAHGGIPGAPKVFGLPRDLQADFKAPITAR...      0\n",
       "1  MTLTCSTSSSFPPSPAGSSLPIDGANRRVLYFSIVPPPSQLAEHRH...      0\n",
       "2  MTLIWTAYIHDRYGGCMYMNNAYRIVQFTPTLDIALLVHDKQFDAI...      0\n",
       "3  ARRLTLTSSTRARGRLGFRLAFTSLFRIKGEVTGGRLVEQLSNSHV...      0\n",
       "4  MCTTTEDATKELFRLAARTPLNIAPEQGSKLQSEIFGSSKWNIKPS...      0\n",
       "5  MAHASSISFSTKPAAFYLAGDSTTAAQSDEGGGWGVGFLKTLQDGA...      0\n",
       "6  MASNMSIVRRAWPGAVQELKHLIVFGASYCDVGYDSRAPRPSPERP...      0\n",
       "7  MSAIYKKLCEFVAAQGRTPQFWGDILEQEPELMRELPPRTVCLNWH...      0\n",
       "8  GAVARGGAGGGRAAHGAPAARRRGGVPAPGLPGELHGRRRRHGEGA...      0\n",
       "9  MTTHTQSYPGRRRAAATPSYPSTAAVTRAAKAAAKLAGRVLMVGIM...      0"
      ]
     },
     "execution_count": 21,
     "metadata": {},
     "output_type": "execute_result"
    }
   ],
   "source": [
    "test = pd.concat(test_sets, ignore_index=True)\n",
    "test_shuffled = test.sample(frac=1, random_state=random_seed).reset_index(drop=True)\n",
    "test_shuffled.head(10)"
   ]
  },
  {
   "cell_type": "code",
   "execution_count": 22,
   "metadata": {},
   "outputs": [
    {
     "data": {
      "text/html": [
       "<div>\n",
       "<style scoped>\n",
       "    .dataframe tbody tr th:only-of-type {\n",
       "        vertical-align: middle;\n",
       "    }\n",
       "\n",
       "    .dataframe tbody tr th {\n",
       "        vertical-align: top;\n",
       "    }\n",
       "\n",
       "    .dataframe thead th {\n",
       "        text-align: right;\n",
       "    }\n",
       "</style>\n",
       "<table border=\"1\" class=\"dataframe\">\n",
       "  <thead>\n",
       "    <tr style=\"text-align: right;\">\n",
       "      <th></th>\n",
       "      <th>sequence</th>\n",
       "      <th>label</th>\n",
       "    </tr>\n",
       "  </thead>\n",
       "  <tbody>\n",
       "    <tr>\n",
       "      <th>0</th>\n",
       "      <td>MPDDTPRPSRLDAAYLALACGIAFFWQLGNLGLVGPDEPRYAQVAR...</td>\n",
       "      <td>0</td>\n",
       "    </tr>\n",
       "    <tr>\n",
       "      <th>1</th>\n",
       "      <td>MNLVQKNRSSYRLVLPGQPSPEEKRAAEFLNRHLEKISGCTLPIIL...</td>\n",
       "      <td>0</td>\n",
       "    </tr>\n",
       "    <tr>\n",
       "      <th>2</th>\n",
       "      <td>IGSKFWEVVSDEHGVDPTGTYQGDSDLQLERINVYYNEATGGRYVP...</td>\n",
       "      <td>0</td>\n",
       "    </tr>\n",
       "    <tr>\n",
       "      <th>3</th>\n",
       "      <td>MTLTTSPFWVGLILWFLICAKPHLCGQFYDSSAYTECKMKPEAPLY...</td>\n",
       "      <td>0</td>\n",
       "    </tr>\n",
       "    <tr>\n",
       "      <th>4</th>\n",
       "      <td>MATTLRSLKIKTGTCKRIVKELHYYEKEVETEAAKTAKMKDNGADP...</td>\n",
       "      <td>0</td>\n",
       "    </tr>\n",
       "    <tr>\n",
       "      <th>5</th>\n",
       "      <td>MNRIPKIKVIGIGGAGVNALSRMAKCGFNYIELIAVNTDAQSLQFS...</td>\n",
       "      <td>0</td>\n",
       "    </tr>\n",
       "    <tr>\n",
       "      <th>6</th>\n",
       "      <td>MRHSIVRLGLAGLVGIVCASGGESPDVKDFDWTTITPSTKLEYHPC...</td>\n",
       "      <td>0</td>\n",
       "    </tr>\n",
       "    <tr>\n",
       "      <th>7</th>\n",
       "      <td>PFLHIGGDEAKGTSSTDFRAFVTRAMQLAAATGKRPIGWHEVGPAQ...</td>\n",
       "      <td>0</td>\n",
       "    </tr>\n",
       "    <tr>\n",
       "      <th>8</th>\n",
       "      <td>MTFKHYDVVRAASPSDLAEKLTHKLKEGWQPFGSPVAITPYTLMQA...</td>\n",
       "      <td>0</td>\n",
       "    </tr>\n",
       "    <tr>\n",
       "      <th>9</th>\n",
       "      <td>MLSPRLLALATSLLSVSVVSGIPWNATEYMFVFGDSYTTDGYNVSA...</td>\n",
       "      <td>0</td>\n",
       "    </tr>\n",
       "  </tbody>\n",
       "</table>\n",
       "</div>"
      ],
      "text/plain": [
       "                                            sequence  label\n",
       "0  MPDDTPRPSRLDAAYLALACGIAFFWQLGNLGLVGPDEPRYAQVAR...      0\n",
       "1  MNLVQKNRSSYRLVLPGQPSPEEKRAAEFLNRHLEKISGCTLPIIL...      0\n",
       "2  IGSKFWEVVSDEHGVDPTGTYQGDSDLQLERINVYYNEATGGRYVP...      0\n",
       "3  MTLTTSPFWVGLILWFLICAKPHLCGQFYDSSAYTECKMKPEAPLY...      0\n",
       "4  MATTLRSLKIKTGTCKRIVKELHYYEKEVETEAAKTAKMKDNGADP...      0\n",
       "5  MNRIPKIKVIGIGGAGVNALSRMAKCGFNYIELIAVNTDAQSLQFS...      0\n",
       "6  MRHSIVRLGLAGLVGIVCASGGESPDVKDFDWTTITPSTKLEYHPC...      0\n",
       "7  PFLHIGGDEAKGTSSTDFRAFVTRAMQLAAATGKRPIGWHEVGPAQ...      0\n",
       "8  MTFKHYDVVRAASPSDLAEKLTHKLKEGWQPFGSPVAITPYTLMQA...      0\n",
       "9  MLSPRLLALATSLLSVSVVSGIPWNATEYMFVFGDSYTTDGYNVSA...      0"
      ]
     },
     "execution_count": 22,
     "metadata": {},
     "output_type": "execute_result"
    }
   ],
   "source": [
    "valid = pd.concat(valid_sets, ignore_index=True)\n",
    "valid_shuffled = valid.sample(frac=1, random_state=random_seed).reset_index(drop=True)\n",
    "valid_shuffled.head(10)"
   ]
  },
  {
   "cell_type": "markdown",
   "metadata": {},
   "source": [
    "# **Exporting Dataframes**"
   ]
  },
  {
   "cell_type": "code",
   "execution_count": 23,
   "metadata": {},
   "outputs": [],
   "source": [
    "train_shuffled.to_csv(\"Negative Samples/Data Augmentation/my_train_negative.csv\", index=False)\n",
    "test_shuffled.to_csv(\"Negative Samples/Data Augmentation/my_test_negative.csv\", index=False)\n",
    "valid_shuffled.to_csv(\"Negative Samples/Data Augmentation/my_valid_negative.csv\", index=False)"
   ]
  }
 ],
 "metadata": {
  "kernelspec": {
   "display_name": "torch",
   "language": "python",
   "name": "python3"
  },
  "language_info": {
   "codemirror_mode": {
    "name": "ipython",
    "version": 3
   },
   "file_extension": ".py",
   "mimetype": "text/x-python",
   "name": "python",
   "nbconvert_exporter": "python",
   "pygments_lexer": "ipython3",
   "version": "3.12.4"
  }
 },
 "nbformat": 4,
 "nbformat_minor": 2
}
