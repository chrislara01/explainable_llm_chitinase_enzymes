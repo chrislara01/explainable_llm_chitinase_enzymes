{
 "cells": [
  {
   "cell_type": "code",
   "execution_count": 1,
   "metadata": {},
   "outputs": [],
   "source": [
    "import pandas as pd"
   ]
  },
  {
   "cell_type": "code",
   "execution_count": 2,
   "metadata": {},
   "outputs": [],
   "source": [
    "random_seed = 42"
   ]
  },
  {
   "cell_type": "code",
   "execution_count": 5,
   "metadata": {},
   "outputs": [],
   "source": [
    "train_positive = pd.read_csv(\"Positive Samples/No Data Augmentation/my_train_positive.csv\")\n",
    "train_negative = pd.read_csv(\"Negative Samples/No Data Augmentation/my_train_negative.csv\")\n",
    "test_positive = pd.read_csv(\"Positive Samples/No Data Augmentation/my_test_positive.csv\")\n",
    "test_negative = pd.read_csv(\"Negative Samples/No Data Augmentation/my_test_negative.csv\")\n",
    "valid_positive = pd.read_csv(\"Positive Samples/No Data Augmentation/my_valid_positive.csv\")\n",
    "valid_negative = pd.read_csv(\"Negative Samples/No Data Augmentation/my_valid_negative.csv\")"
   ]
  },
  {
   "cell_type": "code",
   "execution_count": 6,
   "metadata": {},
   "outputs": [
    {
     "data": {
      "text/html": [
       "<div>\n",
       "<style scoped>\n",
       "    .dataframe tbody tr th:only-of-type {\n",
       "        vertical-align: middle;\n",
       "    }\n",
       "\n",
       "    .dataframe tbody tr th {\n",
       "        vertical-align: top;\n",
       "    }\n",
       "\n",
       "    .dataframe thead th {\n",
       "        text-align: right;\n",
       "    }\n",
       "</style>\n",
       "<table border=\"1\" class=\"dataframe\">\n",
       "  <thead>\n",
       "    <tr style=\"text-align: right;\">\n",
       "      <th></th>\n",
       "      <th>sequence</th>\n",
       "      <th>label</th>\n",
       "    </tr>\n",
       "  </thead>\n",
       "  <tbody>\n",
       "    <tr>\n",
       "      <th>0</th>\n",
       "      <td>MNRFFTLLFFVLFFNAAINFVSSHRIVGYYQGIRPLTNDQAKKLTH...</td>\n",
       "      <td>1</td>\n",
       "    </tr>\n",
       "    <tr>\n",
       "      <th>1</th>\n",
       "      <td>MDEIAAALKDSGVRFLWVTRDETCRLKDICGKMGLVVTWCDQLRVL...</td>\n",
       "      <td>0</td>\n",
       "    </tr>\n",
       "    <tr>\n",
       "      <th>2</th>\n",
       "      <td>MLRLKSILILLTFLVNYEGNHSPIRGRSGVSFVSLVAKSDSQNKAQ...</td>\n",
       "      <td>0</td>\n",
       "    </tr>\n",
       "    <tr>\n",
       "      <th>3</th>\n",
       "      <td>MRSLAVVVAVVATVAMAIGTARGSVSSIVSRAQFDRMLLHRNDGAC...</td>\n",
       "      <td>1</td>\n",
       "    </tr>\n",
       "    <tr>\n",
       "      <th>4</th>\n",
       "      <td>EINFTQSEPFTLSKKTIIVYPKQNALLKRNAEFLAEYIQKSTSYKL...</td>\n",
       "      <td>0</td>\n",
       "    </tr>\n",
       "    <tr>\n",
       "      <th>5</th>\n",
       "      <td>MIATLAFFIIYGGLLLTLCWHDLRYGLLPDKFTCPLLWGGLLYYLC...</td>\n",
       "      <td>0</td>\n",
       "    </tr>\n",
       "    <tr>\n",
       "      <th>6</th>\n",
       "      <td>MKKMKLISSVTCTLMGMGTISIATATTIKSASSANSWNANTVYNSG...</td>\n",
       "      <td>1</td>\n",
       "    </tr>\n",
       "    <tr>\n",
       "      <th>7</th>\n",
       "      <td>MREVLTIEAVQAGIQLGNAIWEQYCAEQGIDNAVKRKEIAGKDYFF...</td>\n",
       "      <td>0</td>\n",
       "    </tr>\n",
       "    <tr>\n",
       "      <th>8</th>\n",
       "      <td>MVKFLLIVVIVIGTVPLYSLTAFGALATPTLNVSASSGMCNLSWNG...</td>\n",
       "      <td>1</td>\n",
       "    </tr>\n",
       "    <tr>\n",
       "      <th>9</th>\n",
       "      <td>MIRRLLSQLAALGAIAAVLVTLPVAAAQAATACATAWSSSSVYTGG...</td>\n",
       "      <td>1</td>\n",
       "    </tr>\n",
       "  </tbody>\n",
       "</table>\n",
       "</div>"
      ],
      "text/plain": [
       "                                            sequence  label\n",
       "0  MNRFFTLLFFVLFFNAAINFVSSHRIVGYYQGIRPLTNDQAKKLTH...      1\n",
       "1  MDEIAAALKDSGVRFLWVTRDETCRLKDICGKMGLVVTWCDQLRVL...      0\n",
       "2  MLRLKSILILLTFLVNYEGNHSPIRGRSGVSFVSLVAKSDSQNKAQ...      0\n",
       "3  MRSLAVVVAVVATVAMAIGTARGSVSSIVSRAQFDRMLLHRNDGAC...      1\n",
       "4  EINFTQSEPFTLSKKTIIVYPKQNALLKRNAEFLAEYIQKSTSYKL...      0\n",
       "5  MIATLAFFIIYGGLLLTLCWHDLRYGLLPDKFTCPLLWGGLLYYLC...      0\n",
       "6  MKKMKLISSVTCTLMGMGTISIATATTIKSASSANSWNANTVYNSG...      1\n",
       "7  MREVLTIEAVQAGIQLGNAIWEQYCAEQGIDNAVKRKEIAGKDYFF...      0\n",
       "8  MVKFLLIVVIVIGTVPLYSLTAFGALATPTLNVSASSGMCNLSWNG...      1\n",
       "9  MIRRLLSQLAALGAIAAVLVTLPVAAAQAATACATAWSSSSVYTGG...      1"
      ]
     },
     "execution_count": 6,
     "metadata": {},
     "output_type": "execute_result"
    }
   ],
   "source": [
    "train = pd.concat([train_positive,train_negative], ignore_index=True)\n",
    "train_shuffled = train.sample(frac=1, random_state=random_seed).reset_index(drop=True)\n",
    "train_shuffled.head(10)"
   ]
  },
  {
   "cell_type": "code",
   "execution_count": 11,
   "metadata": {},
   "outputs": [
    {
     "data": {
      "text/html": [
       "<div>\n",
       "<style scoped>\n",
       "    .dataframe tbody tr th:only-of-type {\n",
       "        vertical-align: middle;\n",
       "    }\n",
       "\n",
       "    .dataframe tbody tr th {\n",
       "        vertical-align: top;\n",
       "    }\n",
       "\n",
       "    .dataframe thead th {\n",
       "        text-align: right;\n",
       "    }\n",
       "</style>\n",
       "<table border=\"1\" class=\"dataframe\">\n",
       "  <thead>\n",
       "    <tr style=\"text-align: right;\">\n",
       "      <th></th>\n",
       "      <th>sequence</th>\n",
       "      <th>label</th>\n",
       "    </tr>\n",
       "  </thead>\n",
       "  <tbody>\n",
       "    <tr>\n",
       "      <th>0</th>\n",
       "      <td>SVAYFVNWAIYGRNYNPQDMPADKLTHVLYAFANVRPDTGEVYLSD...</td>\n",
       "      <td>1</td>\n",
       "    </tr>\n",
       "    <tr>\n",
       "      <th>1</th>\n",
       "      <td>MYRRVMSLLVALGAIVAALIVLPATTAQAATCATAWSSSSVYTNGG...</td>\n",
       "      <td>1</td>\n",
       "    </tr>\n",
       "    <tr>\n",
       "      <th>2</th>\n",
       "      <td>MYSLWCFNNITLVFDNEAIYNICQRNLHIAKPDVNNINRLIAKVIS...</td>\n",
       "      <td>0</td>\n",
       "    </tr>\n",
       "    <tr>\n",
       "      <th>3</th>\n",
       "      <td>MLSPKLSLLALLVGGLCTTSAFAAAPGKPTIGSGPTKFAIVEVNQA...</td>\n",
       "      <td>1</td>\n",
       "    </tr>\n",
       "    <tr>\n",
       "      <th>4</th>\n",
       "      <td>ETEWLGNTPTGGEMRFHLFNLTPEAISGFSLCYTTQSRISGAAEIS...</td>\n",
       "      <td>0</td>\n",
       "    </tr>\n",
       "    <tr>\n",
       "      <th>5</th>\n",
       "      <td>MNQAVRFRPVITFALAFILIITWFAPRADAAAQWQAGTAYKQGDLV...</td>\n",
       "      <td>1</td>\n",
       "    </tr>\n",
       "    <tr>\n",
       "      <th>6</th>\n",
       "      <td>MSRKSQSRNLRRLGMGALALAMGLASVGSLATEAAPYFFTWGYGES...</td>\n",
       "      <td>1</td>\n",
       "    </tr>\n",
       "    <tr>\n",
       "      <th>7</th>\n",
       "      <td>MESLKKASLVLFPILVLSLFNHSNAAGIAVYWGQNGGEGSLADTCN...</td>\n",
       "      <td>1</td>\n",
       "    </tr>\n",
       "    <tr>\n",
       "      <th>8</th>\n",
       "      <td>MILNKQNKTNGERSITRDITGHYTEGAELIDNVLDVVRKNVESCDC...</td>\n",
       "      <td>0</td>\n",
       "    </tr>\n",
       "    <tr>\n",
       "      <th>9</th>\n",
       "      <td>MDNLVIFFALFAFVLGICVGSFSNVLIYRLPRNESINFPASHCPNC...</td>\n",
       "      <td>0</td>\n",
       "    </tr>\n",
       "  </tbody>\n",
       "</table>\n",
       "</div>"
      ],
      "text/plain": [
       "                                            sequence  label\n",
       "0  SVAYFVNWAIYGRNYNPQDMPADKLTHVLYAFANVRPDTGEVYLSD...      1\n",
       "1  MYRRVMSLLVALGAIVAALIVLPATTAQAATCATAWSSSSVYTNGG...      1\n",
       "2  MYSLWCFNNITLVFDNEAIYNICQRNLHIAKPDVNNINRLIAKVIS...      0\n",
       "3  MLSPKLSLLALLVGGLCTTSAFAAAPGKPTIGSGPTKFAIVEVNQA...      1\n",
       "4  ETEWLGNTPTGGEMRFHLFNLTPEAISGFSLCYTTQSRISGAAEIS...      0\n",
       "5  MNQAVRFRPVITFALAFILIITWFAPRADAAAQWQAGTAYKQGDLV...      1\n",
       "6  MSRKSQSRNLRRLGMGALALAMGLASVGSLATEAAPYFFTWGYGES...      1\n",
       "7  MESLKKASLVLFPILVLSLFNHSNAAGIAVYWGQNGGEGSLADTCN...      1\n",
       "8  MILNKQNKTNGERSITRDITGHYTEGAELIDNVLDVVRKNVESCDC...      0\n",
       "9  MDNLVIFFALFAFVLGICVGSFSNVLIYRLPRNESINFPASHCPNC...      0"
      ]
     },
     "execution_count": 11,
     "metadata": {},
     "output_type": "execute_result"
    }
   ],
   "source": [
    "test = pd.concat([test_positive,test_negative], ignore_index=True)\n",
    "test_shuffled = test.sample(frac=1, random_state=random_seed).reset_index(drop=True)\n",
    "test_shuffled.head(10)"
   ]
  },
  {
   "cell_type": "code",
   "execution_count": 7,
   "metadata": {},
   "outputs": [
    {
     "data": {
      "text/html": [
       "<div>\n",
       "<style scoped>\n",
       "    .dataframe tbody tr th:only-of-type {\n",
       "        vertical-align: middle;\n",
       "    }\n",
       "\n",
       "    .dataframe tbody tr th {\n",
       "        vertical-align: top;\n",
       "    }\n",
       "\n",
       "    .dataframe thead th {\n",
       "        text-align: right;\n",
       "    }\n",
       "</style>\n",
       "<table border=\"1\" class=\"dataframe\">\n",
       "  <thead>\n",
       "    <tr style=\"text-align: right;\">\n",
       "      <th></th>\n",
       "      <th>sequence</th>\n",
       "      <th>label</th>\n",
       "    </tr>\n",
       "  </thead>\n",
       "  <tbody>\n",
       "    <tr>\n",
       "      <th>0</th>\n",
       "      <td>MRSLLAVSCALALSGVKGAVTAAPRPNEFDWDSIRYMYAFGDSYTF...</td>\n",
       "      <td>0</td>\n",
       "    </tr>\n",
       "    <tr>\n",
       "      <th>1</th>\n",
       "      <td>MHSFRMIFLEALLIAGVLSGLFSSSAVAQNCQCDTTIYCCSQHGYC...</td>\n",
       "      <td>1</td>\n",
       "    </tr>\n",
       "    <tr>\n",
       "      <th>2</th>\n",
       "      <td>MNFKDLLNTLRTSDSFWISLTRDILSVLLLVGIFLLLSQIIFGMWT...</td>\n",
       "      <td>0</td>\n",
       "    </tr>\n",
       "    <tr>\n",
       "      <th>3</th>\n",
       "      <td>IVAYFPEWGDQEAKGFLTADKIPWDKITHINYAFAKINSSNKIDFI...</td>\n",
       "      <td>1</td>\n",
       "    </tr>\n",
       "    <tr>\n",
       "      <th>4</th>\n",
       "      <td>MSIKHYDVVRAASPSDLAEKLTHKLKEGWQPFGSPVAITPYTLMQA...</td>\n",
       "      <td>0</td>\n",
       "    </tr>\n",
       "    <tr>\n",
       "      <th>5</th>\n",
       "      <td>MRKTITVIAVLIVLVLIGVGVVQYVNTSKDEDFIGMPGEPTGTQAP...</td>\n",
       "      <td>0</td>\n",
       "    </tr>\n",
       "    <tr>\n",
       "      <th>6</th>\n",
       "      <td>MRRVPDLPCRLYGLYWAAVDERRAPAHEARGLHRACVPPKWIPFPS...</td>\n",
       "      <td>0</td>\n",
       "    </tr>\n",
       "    <tr>\n",
       "      <th>7</th>\n",
       "      <td>MPSVLSSFFGMLTLAYSTQCRSLPPRLAGNSSSVEAHARNPPSTNG...</td>\n",
       "      <td>1</td>\n",
       "    </tr>\n",
       "    <tr>\n",
       "      <th>8</th>\n",
       "      <td>VGYFAEWGVYGRNYHVNNIRTSGSASKLTHILYAFGNTTGGRCSIG...</td>\n",
       "      <td>1</td>\n",
       "    </tr>\n",
       "    <tr>\n",
       "      <th>9</th>\n",
       "      <td>MKLNKITSYIGFALLSGGALAAPSTPTLDWQPQQYSFVEVNVDGLG...</td>\n",
       "      <td>1</td>\n",
       "    </tr>\n",
       "  </tbody>\n",
       "</table>\n",
       "</div>"
      ],
      "text/plain": [
       "                                            sequence  label\n",
       "0  MRSLLAVSCALALSGVKGAVTAAPRPNEFDWDSIRYMYAFGDSYTF...      0\n",
       "1  MHSFRMIFLEALLIAGVLSGLFSSSAVAQNCQCDTTIYCCSQHGYC...      1\n",
       "2  MNFKDLLNTLRTSDSFWISLTRDILSVLLLVGIFLLLSQIIFGMWT...      0\n",
       "3  IVAYFPEWGDQEAKGFLTADKIPWDKITHINYAFAKINSSNKIDFI...      1\n",
       "4  MSIKHYDVVRAASPSDLAEKLTHKLKEGWQPFGSPVAITPYTLMQA...      0\n",
       "5  MRKTITVIAVLIVLVLIGVGVVQYVNTSKDEDFIGMPGEPTGTQAP...      0\n",
       "6  MRRVPDLPCRLYGLYWAAVDERRAPAHEARGLHRACVPPKWIPFPS...      0\n",
       "7  MPSVLSSFFGMLTLAYSTQCRSLPPRLAGNSSSVEAHARNPPSTNG...      1\n",
       "8  VGYFAEWGVYGRNYHVNNIRTSGSASKLTHILYAFGNTTGGRCSIG...      1\n",
       "9  MKLNKITSYIGFALLSGGALAAPSTPTLDWQPQQYSFVEVNVDGLG...      1"
      ]
     },
     "execution_count": 7,
     "metadata": {},
     "output_type": "execute_result"
    }
   ],
   "source": [
    "valid = pd.concat([valid_positive,valid_negative], ignore_index=True)\n",
    "valid_shuffled = valid.sample(frac=1, random_state=random_seed).reset_index(drop=True)\n",
    "valid_shuffled.head(10)"
   ]
  },
  {
   "cell_type": "markdown",
   "metadata": {},
   "source": [
    "# **Analysing Redundant Data**"
   ]
  },
  {
   "cell_type": "markdown",
   "metadata": {},
   "source": [
    "## Cheking repeated sequences in each dataset"
   ]
  },
  {
   "cell_type": "code",
   "execution_count": 8,
   "metadata": {},
   "outputs": [],
   "source": [
    "def check_doubles(set_a):\n",
    "    idx = []\n",
    "    for i, sequence in enumerate(set_a):\n",
    "        no_sequence_i = set_a[:i] + set_a[i+1:]\n",
    "        if sequence in no_sequence_i:\n",
    "            idx.append((i,no_sequence_i.index(sequence)))\n",
    "    return idx"
   ]
  },
  {
   "cell_type": "code",
   "execution_count": 9,
   "metadata": {},
   "outputs": [
    {
     "name": "stdout",
     "output_type": "stream",
     "text": [
      "0\n"
     ]
    }
   ],
   "source": [
    "print(len(check_doubles(train[\"sequence\"])))"
   ]
  },
  {
   "cell_type": "code",
   "execution_count": 12,
   "metadata": {},
   "outputs": [
    {
     "name": "stdout",
     "output_type": "stream",
     "text": [
      "0\n"
     ]
    }
   ],
   "source": [
    "print(len(check_doubles(test[\"sequence\"])))"
   ]
  },
  {
   "cell_type": "code",
   "execution_count": 13,
   "metadata": {},
   "outputs": [
    {
     "name": "stdout",
     "output_type": "stream",
     "text": [
      "0\n"
     ]
    }
   ],
   "source": [
    "print(len(check_doubles(valid[\"sequence\"])))"
   ]
  },
  {
   "cell_type": "markdown",
   "metadata": {},
   "source": [
    "## Cheking leaked sequences between datasets"
   ]
  },
  {
   "cell_type": "code",
   "execution_count": 14,
   "metadata": {},
   "outputs": [],
   "source": [
    "def check_leak(set_a, set_b):\n",
    "    idx = []\n",
    "    for i, sequence in enumerate(set_a):\n",
    "        if sequence in set_b:\n",
    "            idx.append(i, set_b.index(sequence))\n",
    "    return idx"
   ]
  },
  {
   "cell_type": "code",
   "execution_count": 15,
   "metadata": {},
   "outputs": [
    {
     "name": "stdout",
     "output_type": "stream",
     "text": [
      "0\n"
     ]
    }
   ],
   "source": [
    "print(len(check_leak(train[\"sequence\"],test[\"sequence\"])))"
   ]
  },
  {
   "cell_type": "code",
   "execution_count": 16,
   "metadata": {},
   "outputs": [
    {
     "name": "stdout",
     "output_type": "stream",
     "text": [
      "0\n"
     ]
    }
   ],
   "source": [
    "print(len(check_leak(train[\"sequence\"],valid[\"sequence\"])))"
   ]
  },
  {
   "cell_type": "code",
   "execution_count": 17,
   "metadata": {},
   "outputs": [
    {
     "name": "stdout",
     "output_type": "stream",
     "text": [
      "0\n"
     ]
    }
   ],
   "source": [
    "print(len(check_leak(test[\"sequence\"],valid[\"sequence\"])))"
   ]
  },
  {
   "cell_type": "markdown",
   "metadata": {},
   "source": [
    "# **Exporting Dataframes**"
   ]
  },
  {
   "cell_type": "code",
   "execution_count": 18,
   "metadata": {},
   "outputs": [],
   "source": [
    "train_shuffled.to_csv(\"Binary Datasets/No Data Augmentation/train.csv\", index=False)\n",
    "test_shuffled.to_csv(\"Binary Datasets/No Data Augmentation/test.csv\", index=False)\n",
    "valid_shuffled.to_csv(\"Binary Datasets/No Data Augmentation/valid.csv\", index=False)"
   ]
  },
  {
   "cell_type": "code",
   "execution_count": 19,
   "metadata": {},
   "outputs": [
    {
     "name": "stdout",
     "output_type": "stream",
     "text": [
      "Datasets sizes\n",
      "Train:  639\n",
      "Test:  181\n",
      "Validation:  98\n",
      "TOTAL:  918\n"
     ]
    }
   ],
   "source": [
    "print(\"Datasets sizes\")\n",
    "print(\"Train: \", len(train_shuffled))\n",
    "print(\"Test: \", len(test_shuffled))\n",
    "print(\"Validation: \", len(valid_shuffled))\n",
    "print(\"TOTAL: \", len(train_shuffled) + len(test_shuffled) + len(valid_shuffled) )"
   ]
  }
 ],
 "metadata": {
  "kernelspec": {
   "display_name": "torch",
   "language": "python",
   "name": "python3"
  },
  "language_info": {
   "codemirror_mode": {
    "name": "ipython",
    "version": 3
   },
   "file_extension": ".py",
   "mimetype": "text/x-python",
   "name": "python",
   "nbconvert_exporter": "python",
   "pygments_lexer": "ipython3",
   "version": "3.12.4"
  }
 },
 "nbformat": 4,
 "nbformat_minor": 2
}
