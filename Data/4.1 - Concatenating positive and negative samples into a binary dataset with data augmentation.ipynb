{
 "cells": [
  {
   "cell_type": "code",
   "execution_count": 1,
   "metadata": {},
   "outputs": [],
   "source": [
    "import pandas as pd"
   ]
  },
  {
   "cell_type": "code",
   "execution_count": 2,
   "metadata": {},
   "outputs": [],
   "source": [
    "random_seed = 42"
   ]
  },
  {
   "cell_type": "code",
   "execution_count": 4,
   "metadata": {},
   "outputs": [],
   "source": [
    "train_positive = pd.read_csv(\"Positive Samples/Data Augmentation/my_train_positive_augmented.csv\")\n",
    "train_negative = pd.read_csv(\"Negative Samples/my_train_negative.csv\")\n",
    "test_positive = pd.read_csv(\"Positive Samples/Data Augmentation/my_test_positive_augmented.csv\")\n",
    "test_negative = pd.read_csv(\"Negative Samples/my_test_negative.csv\")\n",
    "valid_positive = pd.read_csv(\"Positive Samples/Data Augmentation/my_valid_positive_augmented.csv\")\n",
    "valid_negative = pd.read_csv(\"Negative Samples/my_valid_negative.csv\")"
   ]
  },
  {
   "cell_type": "code",
   "execution_count": 5,
   "metadata": {},
   "outputs": [
    {
     "data": {
      "text/html": [
       "<div>\n",
       "<style scoped>\n",
       "    .dataframe tbody tr th:only-of-type {\n",
       "        vertical-align: middle;\n",
       "    }\n",
       "\n",
       "    .dataframe tbody tr th {\n",
       "        vertical-align: top;\n",
       "    }\n",
       "\n",
       "    .dataframe thead th {\n",
       "        text-align: right;\n",
       "    }\n",
       "</style>\n",
       "<table border=\"1\" class=\"dataframe\">\n",
       "  <thead>\n",
       "    <tr style=\"text-align: right;\">\n",
       "      <th></th>\n",
       "      <th>sequence</th>\n",
       "      <th>label</th>\n",
       "    </tr>\n",
       "  </thead>\n",
       "  <tbody>\n",
       "    <tr>\n",
       "      <th>0</th>\n",
       "      <td>MNWSRLAAAARVLGGVVLLVVVALVVVLAAPQALGADASYTVLSGS...</td>\n",
       "      <td>0</td>\n",
       "    </tr>\n",
       "    <tr>\n",
       "      <th>1</th>\n",
       "      <td>MGEAEKWIQDVFVFAAILFAVFFAAKYVLHVSWPFAVVSSWSMMPD...</td>\n",
       "      <td>0</td>\n",
       "    </tr>\n",
       "    <tr>\n",
       "      <th>2</th>\n",
       "      <td>MKRHALYFALALAGAAFTLQAAPLPAMPDPGLPVSHFITQVNADKS...</td>\n",
       "      <td>0</td>\n",
       "    </tr>\n",
       "    <tr>\n",
       "      <th>3</th>\n",
       "      <td>MKKNIKKILLGLAVLFLILVGYFFIGSAPRAEKIAWGVNFSQRHAE...</td>\n",
       "      <td>0</td>\n",
       "    </tr>\n",
       "    <tr>\n",
       "      <th>4</th>\n",
       "      <td>MISPDTGRAVAPRDVLAQAHTAGRVQDLGTSVRYTWPGVSFEGRFR...</td>\n",
       "      <td>0</td>\n",
       "    </tr>\n",
       "    <tr>\n",
       "      <th>5</th>\n",
       "      <td>MVRFTGISSKQHQAIELLQKHISLPDVEVAVAQSDQASISIKGEGG...</td>\n",
       "      <td>0</td>\n",
       "    </tr>\n",
       "    <tr>\n",
       "      <th>6</th>\n",
       "      <td>KMGNKINDYKSNPYDLYNQASALGGLGKRSTSILSDSGKKDASAEW...</td>\n",
       "      <td>1</td>\n",
       "    </tr>\n",
       "    <tr>\n",
       "      <th>7</th>\n",
       "      <td>MREIVHIQAGQCGNQIGSKFWEVISDEHGIDPTGTYKGDSDLQLER...</td>\n",
       "      <td>0</td>\n",
       "    </tr>\n",
       "    <tr>\n",
       "      <th>8</th>\n",
       "      <td>MATSLQISCLVPVLSLLLLAHVSTSYGGSIAIYWGQSGAEGTLREA...</td>\n",
       "      <td>1</td>\n",
       "    </tr>\n",
       "    <tr>\n",
       "      <th>9</th>\n",
       "      <td>MKIKILIPVFNDWQSLSKLLNNIDNEVQNINHEISIFIVDDASTFD...</td>\n",
       "      <td>0</td>\n",
       "    </tr>\n",
       "  </tbody>\n",
       "</table>\n",
       "</div>"
      ],
      "text/plain": [
       "                                            sequence  label\n",
       "0  MNWSRLAAAARVLGGVVLLVVVALVVVLAAPQALGADASYTVLSGS...      0\n",
       "1  MGEAEKWIQDVFVFAAILFAVFFAAKYVLHVSWPFAVVSSWSMMPD...      0\n",
       "2  MKRHALYFALALAGAAFTLQAAPLPAMPDPGLPVSHFITQVNADKS...      0\n",
       "3  MKKNIKKILLGLAVLFLILVGYFFIGSAPRAEKIAWGVNFSQRHAE...      0\n",
       "4  MISPDTGRAVAPRDVLAQAHTAGRVQDLGTSVRYTWPGVSFEGRFR...      0\n",
       "5  MVRFTGISSKQHQAIELLQKHISLPDVEVAVAQSDQASISIKGEGG...      0\n",
       "6  KMGNKINDYKSNPYDLYNQASALGGLGKRSTSILSDSGKKDASAEW...      1\n",
       "7  MREIVHIQAGQCGNQIGSKFWEVISDEHGIDPTGTYKGDSDLQLER...      0\n",
       "8  MATSLQISCLVPVLSLLLLAHVSTSYGGSIAIYWGQSGAEGTLREA...      1\n",
       "9  MKIKILIPVFNDWQSLSKLLNNIDNEVQNINHEISIFIVDDASTFD...      0"
      ]
     },
     "execution_count": 5,
     "metadata": {},
     "output_type": "execute_result"
    }
   ],
   "source": [
    "train = pd.concat([train_positive,train_negative], ignore_index=True)\n",
    "train_shuffled = train.sample(frac=1, random_state=random_seed).reset_index(drop=True)\n",
    "train_shuffled.head(10)"
   ]
  },
  {
   "cell_type": "code",
   "execution_count": 6,
   "metadata": {},
   "outputs": [
    {
     "data": {
      "text/html": [
       "<div>\n",
       "<style scoped>\n",
       "    .dataframe tbody tr th:only-of-type {\n",
       "        vertical-align: middle;\n",
       "    }\n",
       "\n",
       "    .dataframe tbody tr th {\n",
       "        vertical-align: top;\n",
       "    }\n",
       "\n",
       "    .dataframe thead th {\n",
       "        text-align: right;\n",
       "    }\n",
       "</style>\n",
       "<table border=\"1\" class=\"dataframe\">\n",
       "  <thead>\n",
       "    <tr style=\"text-align: right;\">\n",
       "      <th></th>\n",
       "      <th>sequence</th>\n",
       "      <th>label</th>\n",
       "    </tr>\n",
       "  </thead>\n",
       "  <tbody>\n",
       "    <tr>\n",
       "      <th>0</th>\n",
       "      <td>MRGLVVAALLVAAFAVSAHAEQCGSQAGGATCPNCLCCSRFGFCGS...</td>\n",
       "      <td>1</td>\n",
       "    </tr>\n",
       "    <tr>\n",
       "      <th>1</th>\n",
       "      <td>MIRRLLSQLAALGAIAAVLVTLPVAAAQAATACATAWSSSSVYTGG...</td>\n",
       "      <td>1</td>\n",
       "    </tr>\n",
       "    <tr>\n",
       "      <th>2</th>\n",
       "      <td>LESHHSFLKEHGLGDHMANLIDGNDADIEWAFLGGLNEDVVYKGKA...</td>\n",
       "      <td>1</td>\n",
       "    </tr>\n",
       "    <tr>\n",
       "      <th>3</th>\n",
       "      <td>MLRFEVYRDGAPAEHVDLSGAYVFGQDAIPVRADLAAAKGQIRCLK...</td>\n",
       "      <td>0</td>\n",
       "    </tr>\n",
       "    <tr>\n",
       "      <th>4</th>\n",
       "      <td>NAVLISQAQQEYQFNDLSNDACWIFIGALNGSQQLQQAASIATSPT...</td>\n",
       "      <td>1</td>\n",
       "    </tr>\n",
       "    <tr>\n",
       "      <th>5</th>\n",
       "      <td>VSSKISSSYGSQDDYYKSWLMVGGYKPSRKIVPLIQSTLVNAPIFG...</td>\n",
       "      <td>1</td>\n",
       "    </tr>\n",
       "    <tr>\n",
       "      <th>6</th>\n",
       "      <td>ASMGKKINDYKSDPYSLWNQSSEIGGLAQFSTNILSGDDKRDASAE...</td>\n",
       "      <td>1</td>\n",
       "    </tr>\n",
       "    <tr>\n",
       "      <th>7</th>\n",
       "      <td>MSSIKQIFAILVAIACMSCTMIAAQNCGCASGLCCSKYGYCGTTKA...</td>\n",
       "      <td>1</td>\n",
       "    </tr>\n",
       "    <tr>\n",
       "      <th>8</th>\n",
       "      <td>MKNINNGFFPCMLFLLMCLVYSGIAIDPFSRSHSLKTECIMKPPRS...</td>\n",
       "      <td>0</td>\n",
       "    </tr>\n",
       "    <tr>\n",
       "      <th>9</th>\n",
       "      <td>NLGSRINDYQSNPYSLLNQTSDLSGLARHSTGILSDSGTKDASAEW...</td>\n",
       "      <td>1</td>\n",
       "    </tr>\n",
       "  </tbody>\n",
       "</table>\n",
       "</div>"
      ],
      "text/plain": [
       "                                            sequence  label\n",
       "0  MRGLVVAALLVAAFAVSAHAEQCGSQAGGATCPNCLCCSRFGFCGS...      1\n",
       "1  MIRRLLSQLAALGAIAAVLVTLPVAAAQAATACATAWSSSSVYTGG...      1\n",
       "2  LESHHSFLKEHGLGDHMANLIDGNDADIEWAFLGGLNEDVVYKGKA...      1\n",
       "3  MLRFEVYRDGAPAEHVDLSGAYVFGQDAIPVRADLAAAKGQIRCLK...      0\n",
       "4  NAVLISQAQQEYQFNDLSNDACWIFIGALNGSQQLQQAASIATSPT...      1\n",
       "5  VSSKISSSYGSQDDYYKSWLMVGGYKPSRKIVPLIQSTLVNAPIFG...      1\n",
       "6  ASMGKKINDYKSDPYSLWNQSSEIGGLAQFSTNILSGDDKRDASAE...      1\n",
       "7  MSSIKQIFAILVAIACMSCTMIAAQNCGCASGLCCSKYGYCGTTKA...      1\n",
       "8  MKNINNGFFPCMLFLLMCLVYSGIAIDPFSRSHSLKTECIMKPPRS...      0\n",
       "9  NLGSRINDYQSNPYSLLNQTSDLSGLARHSTGILSDSGTKDASAEW...      1"
      ]
     },
     "execution_count": 6,
     "metadata": {},
     "output_type": "execute_result"
    }
   ],
   "source": [
    "test = pd.concat([test_positive,test_negative], ignore_index=True)\n",
    "test_shuffled = test.sample(frac=1, random_state=random_seed).reset_index(drop=True)\n",
    "test_shuffled.head(10)"
   ]
  },
  {
   "cell_type": "code",
   "execution_count": 7,
   "metadata": {},
   "outputs": [
    {
     "data": {
      "text/html": [
       "<div>\n",
       "<style scoped>\n",
       "    .dataframe tbody tr th:only-of-type {\n",
       "        vertical-align: middle;\n",
       "    }\n",
       "\n",
       "    .dataframe tbody tr th {\n",
       "        vertical-align: top;\n",
       "    }\n",
       "\n",
       "    .dataframe thead th {\n",
       "        text-align: right;\n",
       "    }\n",
       "</style>\n",
       "<table border=\"1\" class=\"dataframe\">\n",
       "  <thead>\n",
       "    <tr style=\"text-align: right;\">\n",
       "      <th></th>\n",
       "      <th>sequence</th>\n",
       "      <th>label</th>\n",
       "    </tr>\n",
       "  </thead>\n",
       "  <tbody>\n",
       "    <tr>\n",
       "      <th>0</th>\n",
       "      <td>AWNCCDCSTDFVLGAQCNQQYTVGNVCHWFANRNNAVPYLGNARVA...</td>\n",
       "      <td>1</td>\n",
       "    </tr>\n",
       "    <tr>\n",
       "      <th>1</th>\n",
       "      <td>MKKVLSVLIAVIMILQLVPALADTSIKIVINGENKQFDVMPVIVEG...</td>\n",
       "      <td>0</td>\n",
       "    </tr>\n",
       "    <tr>\n",
       "      <th>2</th>\n",
       "      <td>CGQNDGPAVGFKSCYSNYLSVRSNVADPSGGNCEISNIARITAGFG...</td>\n",
       "      <td>1</td>\n",
       "    </tr>\n",
       "    <tr>\n",
       "      <th>3</th>\n",
       "      <td>MLLSCCSLATVFISENGNDLSYKNLFILAGQSNMAGRGYFGDDNST...</td>\n",
       "      <td>0</td>\n",
       "    </tr>\n",
       "    <tr>\n",
       "      <th>4</th>\n",
       "      <td>MKWKRFSSIVAAGLLFVASSARTEELTEDFHEPKNIVFAGLLGESS...</td>\n",
       "      <td>0</td>\n",
       "    </tr>\n",
       "    <tr>\n",
       "      <th>5</th>\n",
       "      <td>MNTWLEKDSFAPLLNMVSIPNGMEPSEDRNDIVRALEAIHRVMPGK...</td>\n",
       "      <td>0</td>\n",
       "    </tr>\n",
       "    <tr>\n",
       "      <th>6</th>\n",
       "      <td>WFDRRFFMRKVRSIVSGLISKIGSLFGDNAYAQSADWMMVGGFSPF...</td>\n",
       "      <td>1</td>\n",
       "    </tr>\n",
       "    <tr>\n",
       "      <th>7</th>\n",
       "      <td>IVGYFPSWGVYGRNYQVADIDASKLTHLNYAFADICWNGKHGNPST...</td>\n",
       "      <td>1</td>\n",
       "    </tr>\n",
       "    <tr>\n",
       "      <th>8</th>\n",
       "      <td>RRGPKNNELWTYELPALHGGDTDAVKVLVPDSVSCGDENCLKVRMN...</td>\n",
       "      <td>1</td>\n",
       "    </tr>\n",
       "    <tr>\n",
       "      <th>9</th>\n",
       "      <td>MRKFNKPLLALLIGSTLCSAAQAAAPGKPSIASGPTKFAIVEVDQQ...</td>\n",
       "      <td>1</td>\n",
       "    </tr>\n",
       "  </tbody>\n",
       "</table>\n",
       "</div>"
      ],
      "text/plain": [
       "                                            sequence  label\n",
       "0  AWNCCDCSTDFVLGAQCNQQYTVGNVCHWFANRNNAVPYLGNARVA...      1\n",
       "1  MKKVLSVLIAVIMILQLVPALADTSIKIVINGENKQFDVMPVIVEG...      0\n",
       "2  CGQNDGPAVGFKSCYSNYLSVRSNVADPSGGNCEISNIARITAGFG...      1\n",
       "3  MLLSCCSLATVFISENGNDLSYKNLFILAGQSNMAGRGYFGDDNST...      0\n",
       "4  MKWKRFSSIVAAGLLFVASSARTEELTEDFHEPKNIVFAGLLGESS...      0\n",
       "5  MNTWLEKDSFAPLLNMVSIPNGMEPSEDRNDIVRALEAIHRVMPGK...      0\n",
       "6  WFDRRFFMRKVRSIVSGLISKIGSLFGDNAYAQSADWMMVGGFSPF...      1\n",
       "7  IVGYFPSWGVYGRNYQVADIDASKLTHLNYAFADICWNGKHGNPST...      1\n",
       "8  RRGPKNNELWTYELPALHGGDTDAVKVLVPDSVSCGDENCLKVRMN...      1\n",
       "9  MRKFNKPLLALLIGSTLCSAAQAAAPGKPSIASGPTKFAIVEVDQQ...      1"
      ]
     },
     "execution_count": 7,
     "metadata": {},
     "output_type": "execute_result"
    }
   ],
   "source": [
    "valid = pd.concat([valid_positive,valid_negative], ignore_index=True)\n",
    "valid_shuffled = valid.sample(frac=1, random_state=random_seed).reset_index(drop=True)\n",
    "valid_shuffled.head(10)"
   ]
  },
  {
   "cell_type": "markdown",
   "metadata": {},
   "source": [
    "# **Analysing Redundant Data**"
   ]
  },
  {
   "cell_type": "markdown",
   "metadata": {},
   "source": [
    "## Cheking repeated sequences in each dataset"
   ]
  },
  {
   "cell_type": "code",
   "execution_count": 19,
   "metadata": {},
   "outputs": [],
   "source": [
    "def check_doubles(set_a):\n",
    "    idx = []\n",
    "    for i, sequence in enumerate(set_a):\n",
    "        no_sequence_i = set_a[:i] + set_a[i+1:]\n",
    "        if sequence in no_sequence_i:\n",
    "            idx.append((i,no_sequence_i.index(sequence)))\n",
    "    return idx"
   ]
  },
  {
   "cell_type": "code",
   "execution_count": 20,
   "metadata": {},
   "outputs": [
    {
     "name": "stdout",
     "output_type": "stream",
     "text": [
      "0\n"
     ]
    }
   ],
   "source": [
    "print(len(check_doubles(train[\"sequence\"])))"
   ]
  },
  {
   "cell_type": "code",
   "execution_count": 21,
   "metadata": {},
   "outputs": [
    {
     "name": "stdout",
     "output_type": "stream",
     "text": [
      "0\n"
     ]
    }
   ],
   "source": [
    "print(len(check_doubles(test[\"sequence\"])))"
   ]
  },
  {
   "cell_type": "code",
   "execution_count": 22,
   "metadata": {},
   "outputs": [
    {
     "name": "stdout",
     "output_type": "stream",
     "text": [
      "0\n"
     ]
    }
   ],
   "source": [
    "print(len(check_doubles(valid[\"sequence\"])))"
   ]
  },
  {
   "cell_type": "markdown",
   "metadata": {},
   "source": [
    "## Cheking leaked sequences between datasets"
   ]
  },
  {
   "cell_type": "code",
   "execution_count": 23,
   "metadata": {},
   "outputs": [],
   "source": [
    "def check_leak(set_a, set_b):\n",
    "    idx = []\n",
    "    for i, sequence in enumerate(set_a):\n",
    "        if sequence in set_b:\n",
    "            idx.append(i, set_b.index(sequence))\n",
    "    return idx"
   ]
  },
  {
   "cell_type": "code",
   "execution_count": 25,
   "metadata": {},
   "outputs": [
    {
     "name": "stdout",
     "output_type": "stream",
     "text": [
      "0\n"
     ]
    }
   ],
   "source": [
    "print(len(check_leak(train[\"sequence\"],test[\"sequence\"])))"
   ]
  },
  {
   "cell_type": "code",
   "execution_count": 26,
   "metadata": {},
   "outputs": [
    {
     "name": "stdout",
     "output_type": "stream",
     "text": [
      "0\n"
     ]
    }
   ],
   "source": [
    "print(len(check_leak(train[\"sequence\"],valid[\"sequence\"])))"
   ]
  },
  {
   "cell_type": "code",
   "execution_count": 27,
   "metadata": {},
   "outputs": [
    {
     "name": "stdout",
     "output_type": "stream",
     "text": [
      "0\n"
     ]
    }
   ],
   "source": [
    "print(len(check_leak(test[\"sequence\"],valid[\"sequence\"])))"
   ]
  },
  {
   "cell_type": "markdown",
   "metadata": {},
   "source": [
    "# **Exporting Dataframes**"
   ]
  },
  {
   "cell_type": "code",
   "execution_count": 28,
   "metadata": {},
   "outputs": [],
   "source": [
    "train_shuffled.to_csv(\"Binary Datasets/Data Augmentation/train.csv\", index=False)\n",
    "test_shuffled.to_csv(\"Binary Datasets/Data Augmentation/test.csv\", index=False)\n",
    "valid_shuffled.to_csv(\"Binary Datasets/Data Augmentation/valid.csv\", index=False)"
   ]
  },
  {
   "cell_type": "code",
   "execution_count": 29,
   "metadata": {},
   "outputs": [
    {
     "name": "stdout",
     "output_type": "stream",
     "text": [
      "Datasets sizes\n",
      "Train:  1281\n",
      "Test:  363\n",
      "Validation:  192\n",
      "TOTAL:  1836\n"
     ]
    }
   ],
   "source": [
    "print(\"Datasets sizes\")\n",
    "print(\"Train: \", len(train_shuffled))\n",
    "print(\"Test: \", len(test_shuffled))\n",
    "print(\"Validation: \", len(valid_shuffled))\n",
    "print(\"TOTAL: \", len(train_shuffled) + len(test_shuffled) + len(valid_shuffled) )"
   ]
  }
 ],
 "metadata": {
  "kernelspec": {
   "display_name": "torch",
   "language": "python",
   "name": "python3"
  },
  "language_info": {
   "codemirror_mode": {
    "name": "ipython",
    "version": 3
   },
   "file_extension": ".py",
   "mimetype": "text/x-python",
   "name": "python",
   "nbconvert_exporter": "python",
   "pygments_lexer": "ipython3",
   "version": "3.12.4"
  }
 },
 "nbformat": 4,
 "nbformat_minor": 2
}
